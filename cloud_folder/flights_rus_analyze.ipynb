{
 "cells": [
  {
   "cell_type": "code",
   "execution_count": 7,
   "id": "05ba0533-a65d-472a-bf40-6757cd4d8983",
   "metadata": {
    "tags": []
   },
   "outputs": [],
   "source": [
    "from pyspark.sql import SparkSession\n",
    "\n",
    "# Inicjalizacja sesji Spark z konfiguracją dla JDBC\n",
    "spark = SparkSession.builder \\\n",
    "    .appName(\"FlightsAnalysisApp\") \\\n",
    "    .config(\"spark.jars\", \"spark-bigquery-connector.jar\") \\\n",
    "    .getOrCreate()"
   ]
  },
  {
   "cell_type": "code",
   "execution_count": 8,
   "id": "cb04a04d-a596-458f-86ea-38f0ebb7c19d",
   "metadata": {
    "tags": []
   },
   "outputs": [],
   "source": [
    "# Funkcja do ładowania danych z bazy danych do PySpark DataFrame\n",
    "def load_data_from_db(dbtable, spark_session):\n",
    "    return spark.read.format(\"bigquery\") \\\n",
    "            .option(\"project\", \"mentoring-372319\") \\\n",
    "            .option(\"dataset\", \"flights_database\") \\\n",
    "            .option(\"table\", dbtable) \\\n",
    "            .load()\n",
    "\n",
    "\n",
    "\n",
    "# Załadowanie danych z różnych tabel\n",
    "spark_df_bookings = load_data_from_db(\"bookings\", spark)\n",
    "spark_df_tickets = load_data_from_db(\"tickets\", spark)\n",
    "spark_df_ticket_flights = load_data_from_db(\"ticket_flights\", spark)\n",
    "spark_df_flights = load_data_from_db(\"flights\", spark)\n",
    "spark_df_airports = load_data_from_db(\"airports_data\", spark)\n",
    "\n",
    "# # Wyświetlenie danych\n",
    "# spark_df_bookings.show()\n",
    "# spark_df_tickets.show()\n",
    "# spark_df_ticket_flights.show()\n",
    "# spark_df_flights.show()\n",
    "# spark_df_airports.show()"
   ]
  },
  {
   "cell_type": "code",
   "execution_count": 9,
   "id": "597c4c88-1af2-4a9d-abb1-ac982781007a",
   "metadata": {},
   "outputs": [],
   "source": [
    "# # Joining of tables\n",
    "# df_combined = df_bookings.merge(df_tickets, on='book_ref')\\\n",
    "#                          .merge(df_ticket_flights, on='ticket_no')\\\n",
    "#                          .merge(df_flights, on='flight_id')\\\n",
    "#                          .merge(df_airports, left_on='arrival_airport', right_on='airport_code')\n",
    "\n",
    "# print(df_combined.head())\n",
    "\n",
    "\n",
    "\n",
    "spark_df_combined = spark_df_bookings.join(\n",
    "        spark_df_tickets,\n",
    "        on=['book_ref'],\n",
    "        how='left'\n",
    "    )\n",
    "\n",
    "spark_df_combined = spark_df_combined.join(\n",
    "        spark_df_ticket_flights,\n",
    "        on=['ticket_no'],\n",
    "        how='left'\n",
    "    )\n",
    "\n",
    "spark_df_combined = spark_df_combined.join(\n",
    "        spark_df_flights,\n",
    "        on=['flight_id'],\n",
    "        how='left'\n",
    "    )\n",
    "\n",
    "spark_df_combined = spark_df_combined.join(\n",
    "        spark_df_airports,\n",
    "        spark_df_combined['arrival_airport'] == spark_df_airports['airport_code'],\n",
    "        how='left'\n",
    "    )\n",
    "\n",
    "\n",
    "# # Wyświetlenie danych\n",
    "# spark_df_bookings.show()\n",
    "# spark_df_tickets.show()\n",
    "# spark_df_ticket_flights.show()\n",
    "# spark_df_flights.show()\n",
    "# spark_df_airports.show()\n",
    "\n",
    "#spark_df_combined.head(5)"
   ]
  },
  {
   "cell_type": "markdown",
   "id": "b1ba3561-8fa2-4178-9cde-ac6092429e1d",
   "metadata": {
    "tags": []
   },
   "source": [
    "## Sum of bookings made per arrival airport daily - average "
   ]
  },
  {
   "cell_type": "code",
   "execution_count": 12,
   "id": "8f3927d5-c00e-483d-ab5a-00fd145a9203",
   "metadata": {},
   "outputs": [],
   "source": [
    "from pyspark.sql.functions import count, countDistinct, col\n",
    "\n",
    "# Krok 1: Oblicz liczbę rezerwacji na lotnisko\n",
    "liczba_rezerwacji_per_lotnisko = spark_df_combined.groupBy(\"airport_name\").agg(count(\"book_date\").alias(\"l_rezerwacji\"))\n",
    "\n",
    "# Krok 2: Oblicz liczbę dni z rezerwacjami na lotnisko\n",
    "liczba_dni_z_rezerwacjami = spark_df_combined.groupBy(\"airport_name\").agg(countDistinct(\"book_date\").alias(\"l_dni\"))\n",
    "\n",
    "# Krok 3: Połącz oba DataFrame na podstawie nazwy lotniska\n",
    "srednia_liczba_rezerwacji_na_dzien = liczba_rezerwacji_per_lotnisko.join(liczba_dni_z_rezerwacjami, on=\"airport_name\")\n",
    "\n",
    "# Krok 4: Oblicz średnią liczbę rezerwacji na dzień dla każdego lotniska\n",
    "srednia_liczba_rezerwacji_na_dzien = srednia_liczba_rezerwacji_na_dzien.withColumn(\"srednia_rezerwacji_na_dzien\", col(\"l_rezerwacji\") / col(\"l_dni\"))"
   ]
  },
  {
   "cell_type": "code",
   "execution_count": 14,
   "id": "a709416b-9c88-49cb-9d29-a50fd1f48348",
   "metadata": {},
   "outputs": [
    {
     "name": "stderr",
     "output_type": "stream",
     "text": [
      "[Stage 143:============================>                            (2 + 2) / 4]\r"
     ]
    },
    {
     "name": "stdout",
     "output_type": "stream",
     "text": [
      "+--------------------+------------+-----+---------------------------+\n",
      "|        airport_name|l_rezerwacji|l_dni|srednia_rezerwacji_na_dzien|\n",
      "+--------------------+------------+-----+---------------------------+\n",
      "|{\"en\": \"Domodedov...|     1164744|  390|          2986.523076923077|\n",
      "|{\"en\": \"Sheremety...|      960332|  389|          2468.719794344473|\n",
      "|{\"en\": \"Pulkovo A...|      893576|  389|         2297.1105398457585|\n",
      "|{\"en\": \"Vnukovo I...|      587874|  389|         1511.2442159383033|\n",
      "|{\"en\": \"Irkutsk A...|      398329|  389|         1023.9820051413882|\n",
      "|{\"en\": \"Kazan Int...|      341207|  389|          877.1388174807198|\n",
      "|{\"en\": \"Tolmachev...|      273107|  388|          703.8840206185567|\n",
      "|{\"en\": \"Khabarovs...|      245007|  389|          629.8380462724936|\n",
      "|{\"en\": \"Sochi Int...|      232123|  388|          598.2551546391752|\n",
      "|{\"en\": \"Bolshoye ...|      181155|  387|          468.1007751937984|\n",
      "|{\"en\": \"Bryansk A...|      142780|  388|          367.9896907216495|\n",
      "|{\"en\": \"Belgorod ...|      139057|  387|          359.3204134366925|\n",
      "|{\"en\": \"Rostov-on...|      135812|  386|          351.8445595854922|\n",
      "|{\"en\": \"Yemelyano...|      132023|  388|          340.2654639175258|\n",
      "|{\"en\": \"Khrabrovo...|      122756|  388|          316.3814432989691|\n",
      "|{\"en\": \"Yuzhno-Sa...|      114257|  388|         294.47680412371136|\n",
      "|{\"en\": \"Novy Uren...|      108317|  388|         279.16752577319585|\n",
      "|{\"en\": \"Talagi Ai...|      106751|  387|          275.8423772609819|\n",
      "|{\"en\": \"Anapa Vit...|      100820|  387|         260.51679586563307|\n",
      "|{\"en\": \"Naryan Ma...|       96167|  386|         249.13730569948186|\n",
      "+--------------------+------------+-----+---------------------------+\n",
      "only showing top 20 rows\n",
      "\n"
     ]
    },
    {
     "name": "stderr",
     "output_type": "stream",
     "text": [
      "                                                                                \r"
     ]
    }
   ],
   "source": [
    "srednia_liczba_rezerwacji_na_dzien = srednia_liczba_rezerwacji_na_dzien.orderBy(col('srednia_rezerwacji_na_dzien').desc())\n",
    "\n",
    "# Pokaż wynik\n",
    "srednia_liczba_rezerwacji_na_dzien.show()"
   ]
  },
  {
   "cell_type": "code",
   "execution_count": 34,
   "id": "911eca15-87b8-48cf-949e-74d33e49a10d",
   "metadata": {
    "tags": []
   },
   "outputs": [],
   "source": [
    "spark_df_combined_departure_airport = spark_df_bookings.join(\n",
    "        spark_df_tickets,\n",
    "        on=['book_ref'],\n",
    "        how='left'\n",
    "    )\n",
    "\n",
    "spark_df_combined_departure_airport = spark_df_combined_departure_airport.join(\n",
    "        spark_df_ticket_flights,\n",
    "        on=['ticket_no'],\n",
    "        how='left'\n",
    "    )\n",
    "\n",
    "spark_df_combined_departure_airport = spark_df_combined_departure_airport.join(\n",
    "        spark_df_flights,\n",
    "        on=['flight_id'],\n",
    "        how='left'\n",
    "    )\n",
    "\n",
    "spark_df_combined_departure_airport = spark_df_combined_departure_airport.join(\n",
    "        spark_df_airports,\n",
    "        spark_df_combined_departure_airport['departure_airport'] == spark_df_airports['airport_code'],\n",
    "        how='left'\n",
    "    )\n"
   ]
  },
  {
   "cell_type": "code",
   "execution_count": 35,
   "id": "68e032a6-7096-4855-af62-595f43bde444",
   "metadata": {
    "tags": []
   },
   "outputs": [
    {
     "name": "stderr",
     "output_type": "stream",
     "text": [
      "[Stage 233:>                                                        (0 + 1) / 1]\r"
     ]
    },
    {
     "name": "stdout",
     "output_type": "stream",
     "text": [
      "+---------+-------------+--------+-------------------+------------+------------+--------------+--------------------+---------------+------+---------+-------------------+-------------------+-----------------+---------------+-------+-------------+-------------------+-------------------+------------+--------------------+--------------------+--------------------+-------------+\n",
      "|flight_id|    ticket_no|book_ref|          book_date|total_amount|passenger_id|passenger_name|        contact_data|fare_conditions|amount|flight_no|scheduled_departure|  scheduled_arrival|departure_airport|arrival_airport| status|aircraft_code|   actual_departure|     actual_arrival|airport_code|        airport_name|                city|         coordinates|     timezone|\n",
      "+---------+-------------+--------+-------------------+------------+------------+--------------+--------------------+---------------+------+---------+-------------------+-------------------+-----------------+---------------+-------+-------------+-------------------+-------------------+------------+--------------------+--------------------+--------------------+-------------+\n",
      "|     NULL|         NULL|  4EC65A|2017-04-30 15:22:00|       21800|        NULL|          NULL|                NULL|           NULL|  NULL|     NULL|               NULL|               NULL|             NULL|           NULL|   NULL|         NULL|               NULL|               NULL|        NULL|                NULL|                NULL|                NULL|         NULL|\n",
      "|     NULL|         NULL|  4EC66D|2017-05-28 23:23:00|       34000|        NULL|          NULL|                NULL|           NULL|  NULL|     NULL|               NULL|               NULL|             NULL|           NULL|   NULL|         NULL|               NULL|               NULL|        NULL|                NULL|                NULL|                NULL|         NULL|\n",
      "|     NULL|         NULL|  4EC67C|2017-03-28 12:16:00|       24400|        NULL|          NULL|                NULL|           NULL|  NULL|     NULL|               NULL|               NULL|             NULL|           NULL|   NULL|         NULL|               NULL|               NULL|        NULL|                NULL|                NULL|                NULL|         NULL|\n",
      "|     NULL|         NULL|  F833BC|2016-11-01 12:09:00|       24800|        NULL|          NULL|                NULL|           NULL|  NULL|     NULL|               NULL|               NULL|             NULL|           NULL|   NULL|         NULL|               NULL|               NULL|        NULL|                NULL|                NULL|                NULL|         NULL|\n",
      "|     NULL|         NULL|  4EC5EC|2017-02-19 19:12:00|      209900|        NULL|          NULL|                NULL|           NULL|  NULL|     NULL|               NULL|               NULL|             NULL|           NULL|   NULL|         NULL|               NULL|               NULL|        NULL|                NULL|                NULL|                NULL|         NULL|\n",
      "|     NULL|         NULL|  4EC5FC|2017-01-10 23:30:00|       59300|        NULL|          NULL|                NULL|           NULL|  NULL|     NULL|               NULL|               NULL|             NULL|           NULL|   NULL|         NULL|               NULL|               NULL|        NULL|                NULL|                NULL|                NULL|         NULL|\n",
      "|     NULL|         NULL|  F833BB|2017-04-14 02:55:00|       40200|        NULL|          NULL|                NULL|           NULL|  NULL|     NULL|               NULL|               NULL|             NULL|           NULL|   NULL|         NULL|               NULL|               NULL|        NULL|                NULL|                NULL|                NULL|         NULL|\n",
      "|     NULL|         NULL|  F83404|2017-04-05 07:48:00|       65500|        NULL|          NULL|                NULL|           NULL|  NULL|     NULL|               NULL|               NULL|             NULL|           NULL|   NULL|         NULL|               NULL|               NULL|        NULL|                NULL|                NULL|                NULL|         NULL|\n",
      "|     NULL|         NULL|  F833A9|2017-06-01 03:26:00|       22800|        NULL|          NULL|                NULL|           NULL|  NULL|     NULL|               NULL|               NULL|             NULL|           NULL|   NULL|         NULL|               NULL|               NULL|        NULL|                NULL|                NULL|                NULL|         NULL|\n",
      "|     NULL|         NULL|  F833EF|2017-03-11 16:25:00|       26000|        NULL|          NULL|                NULL|           NULL|  NULL|     NULL|               NULL|               NULL|             NULL|           NULL|   NULL|         NULL|               NULL|               NULL|        NULL|                NULL|                NULL|                NULL|         NULL|\n",
      "|     NULL|         NULL|  F83403|2016-11-16 14:15:00|      106800|        NULL|          NULL|                NULL|           NULL|  NULL|     NULL|               NULL|               NULL|             NULL|           NULL|   NULL|         NULL|               NULL|               NULL|        NULL|                NULL|                NULL|                NULL|         NULL|\n",
      "|     NULL|         NULL|  4EC5FA|2017-06-28 20:19:00|       38400|        NULL|          NULL|                NULL|           NULL|  NULL|     NULL|               NULL|               NULL|             NULL|           NULL|   NULL|         NULL|               NULL|               NULL|        NULL|                NULL|                NULL|                NULL|         NULL|\n",
      "|     NULL|         NULL|  4EC60E|2017-07-04 02:44:00|       78000|        NULL|          NULL|                NULL|           NULL|  NULL|     NULL|               NULL|               NULL|             NULL|           NULL|   NULL|         NULL|               NULL|               NULL|        NULL|                NULL|                NULL|                NULL|         NULL|\n",
      "|     NULL|         NULL|  4EC633|2016-12-11 22:32:00|       38400|        NULL|          NULL|                NULL|           NULL|  NULL|     NULL|               NULL|               NULL|             NULL|           NULL|   NULL|         NULL|               NULL|               NULL|        NULL|                NULL|                NULL|                NULL|         NULL|\n",
      "|     NULL|         NULL|  4EC63D|2016-08-29 02:35:00|       28000|        NULL|          NULL|                NULL|           NULL|  NULL|     NULL|               NULL|               NULL|             NULL|           NULL|   NULL|         NULL|               NULL|               NULL|        NULL|                NULL|                NULL|                NULL|         NULL|\n",
      "|     NULL|         NULL|  F83401|2016-11-12 03:32:00|       50400|        NULL|          NULL|                NULL|           NULL|  NULL|     NULL|               NULL|               NULL|             NULL|           NULL|   NULL|         NULL|               NULL|               NULL|        NULL|                NULL|                NULL|                NULL|         NULL|\n",
      "|     NULL|         NULL|  F83424|2017-07-22 03:01:00|       48400|        NULL|          NULL|                NULL|           NULL|  NULL|     NULL|               NULL|               NULL|             NULL|           NULL|   NULL|         NULL|               NULL|               NULL|        NULL|                NULL|                NULL|                NULL|         NULL|\n",
      "|    52373|0005432020501|  F833C7|2017-07-22 09:24:00|       13400| 5849 938522|ELENA SOLOVEVA|{\"phone\": \"+70150...|        Economy|  6700|   PG0408|2017-08-11 08:55:00|2017-08-11 09:50:00|              LED|            DME|Arrived|          321|2017-08-11 08:59:00|2017-08-11 09:54:00|         LED|{\"en\": \"Pulkovo A...|{\"en\": \"St. Peter...|(30.2625007629394...|Europe/Moscow|\n",
      "|    52373|0005432020501|  F833C7|2017-07-22 09:24:00|       13400| 5849 938522|ELENA SOLOVEVA|{\"phone\": \"+70150...|        Economy|  6700|   PG0408|2017-08-11 08:55:00|2017-08-11 09:50:00|              LED|            DME|Arrived|          321|2017-08-11 08:59:00|2017-08-11 09:54:00|         LED|{\"en\": \"Pulkovo A...|{\"en\": \"St. Peter...|(30.2625007629394...|Europe/Moscow|\n",
      "|    52373|0005432020501|  F833C7|2017-07-22 09:24:00|       13400| 5849 938522|ELENA SOLOVEVA|{\"phone\": \"+70150...|        Economy|  6700|   PG0408|2017-08-11 08:55:00|2017-08-11 09:50:00|              LED|            DME|Arrived|          321|2017-08-11 08:59:00|2017-08-11 09:54:00|         LED|{\"en\": \"Pulkovo A...|{\"en\": \"St. Peter...|(30.2625007629394...|Europe/Moscow|\n",
      "+---------+-------------+--------+-------------------+------------+------------+--------------+--------------------+---------------+------+---------+-------------------+-------------------+-----------------+---------------+-------+-------------+-------------------+-------------------+------------+--------------------+--------------------+--------------------+-------------+\n",
      "only showing top 20 rows\n",
      "\n"
     ]
    },
    {
     "name": "stderr",
     "output_type": "stream",
     "text": [
      "                                                                                \r"
     ]
    }
   ],
   "source": [
    "spark_df_combined_departure_airport.show()"
   ]
  },
  {
   "cell_type": "markdown",
   "id": "37fadb1c-19d2-41b4-8e53-857d4eae3d35",
   "metadata": {},
   "source": [
    "## Average departuring passenger count per flight on arrival airport"
   ]
  },
  {
   "cell_type": "code",
   "execution_count": 15,
   "id": "867f0ce5-f5e3-4b11-b815-8505c210649b",
   "metadata": {},
   "outputs": [],
   "source": [
    "from pyspark.sql.functions import count, countDistinct, col\n",
    "\n",
    "# Krok 1: Oblicz liczbę pasazerow na lotnisko\n",
    "liczba_pasazerow_per_lotnisko = spark_df_combined.groupBy(\"airport_name\").agg(count(\"ticket_no\").alias(\"l_pasazerow\"))\n",
    "\n",
    "# Krok 2: Oblicz liczbę lotow\n",
    "liczba_lotow = spark_df_combined.groupBy(\"airport_name\").agg(countDistinct(\"flight_id\").alias(\"l_lotow\"))\n",
    "\n",
    "# Krok 3: Połącz oba DataFrame na podstawie nazwy lotniska\n",
    "srednia_liczba_pasazerow_na_lot = liczba_pasazerow_per_lotnisko.join(liczba_lotow, on=\"airport_name\")\n",
    "\n",
    "# Krok 4: Oblicz średnią liczbę pasazerow na lot dla każdego lotniska\n",
    "srednia_liczba_pasazerow_na_lot = srednia_liczba_pasazerow_na_lot.withColumn(\"srednia_liczba_pasazerow_na_lot\", col(\"l_pasazerow\") / col(\"l_lotow\"))\n",
    "\n",
    "srednia_liczba_pasazerow_na_lot = srednia_liczba_pasazerow_na_lot.orderBy(col('srednia_liczba_pasazerow_na_lot').desc())"
   ]
  },
  {
   "cell_type": "code",
   "execution_count": 16,
   "id": "b690d4e3-b79d-495d-bd5e-b299137bd5fa",
   "metadata": {},
   "outputs": [
    {
     "name": "stderr",
     "output_type": "stream",
     "text": [
      "24/07/22 13:05:56 ERROR TransportResponseHandler: Still have 1 requests outstanding when connection from /10.186.0.16:50140 is closed\n",
      "24/07/22 13:05:56 WARN BlockManagerMasterEndpoint: Error trying to remove broadcast 79 from block manager BlockManagerId(17, kuba-cluster-w-0.europe-central2-b.c.mentoring-372319.internal, 36487, None)\n",
      "java.io.IOException: Connection from /10.186.0.16:50140 closed\n",
      "\tat org.apache.spark.network.client.TransportResponseHandler.channelInactive(TransportResponseHandler.java:147) ~[spark-network-common_2.12-3.5.0.jar:3.5.0]\n",
      "\tat org.apache.spark.network.server.TransportChannelHandler.channelInactive(TransportChannelHandler.java:117) ~[spark-network-common_2.12-3.5.0.jar:3.5.0]\n",
      "\tat io.netty.channel.AbstractChannelHandlerContext.invokeChannelInactive(AbstractChannelHandlerContext.java:305) ~[netty-transport-4.1.100.Final.jar:4.1.100.Final]\n",
      "\tat io.netty.channel.AbstractChannelHandlerContext.invokeChannelInactive(AbstractChannelHandlerContext.java:281) ~[netty-transport-4.1.100.Final.jar:4.1.100.Final]\n",
      "\tat io.netty.channel.AbstractChannelHandlerContext.fireChannelInactive(AbstractChannelHandlerContext.java:274) ~[netty-transport-4.1.100.Final.jar:4.1.100.Final]\n",
      "\tat io.netty.channel.ChannelInboundHandlerAdapter.channelInactive(ChannelInboundHandlerAdapter.java:81) ~[netty-transport-4.1.100.Final.jar:4.1.100.Final]\n",
      "\tat io.netty.handler.timeout.IdleStateHandler.channelInactive(IdleStateHandler.java:277) ~[netty-handler-4.1.100.Final.jar:4.1.100.Final]\n",
      "\tat io.netty.channel.AbstractChannelHandlerContext.invokeChannelInactive(AbstractChannelHandlerContext.java:303) ~[netty-transport-4.1.100.Final.jar:4.1.100.Final]\n",
      "\tat io.netty.channel.AbstractChannelHandlerContext.invokeChannelInactive(AbstractChannelHandlerContext.java:281) ~[netty-transport-4.1.100.Final.jar:4.1.100.Final]\n",
      "\tat io.netty.channel.AbstractChannelHandlerContext.fireChannelInactive(AbstractChannelHandlerContext.java:274) ~[netty-transport-4.1.100.Final.jar:4.1.100.Final]\n",
      "\tat io.netty.channel.ChannelInboundHandlerAdapter.channelInactive(ChannelInboundHandlerAdapter.java:81) ~[netty-transport-4.1.100.Final.jar:4.1.100.Final]\n",
      "\tat org.apache.spark.network.util.TransportFrameDecoder.channelInactive(TransportFrameDecoder.java:225) ~[spark-network-common_2.12-3.5.0.jar:3.5.0]\n",
      "\tat io.netty.channel.AbstractChannelHandlerContext.invokeChannelInactive(AbstractChannelHandlerContext.java:305) ~[netty-transport-4.1.100.Final.jar:4.1.100.Final]\n",
      "\tat io.netty.channel.AbstractChannelHandlerContext.invokeChannelInactive(AbstractChannelHandlerContext.java:281) ~[netty-transport-4.1.100.Final.jar:4.1.100.Final]\n",
      "\tat io.netty.channel.AbstractChannelHandlerContext.fireChannelInactive(AbstractChannelHandlerContext.java:274) ~[netty-transport-4.1.100.Final.jar:4.1.100.Final]\n",
      "\tat io.netty.channel.DefaultChannelPipeline$HeadContext.channelInactive(DefaultChannelPipeline.java:1405) ~[netty-transport-4.1.100.Final.jar:4.1.100.Final]\n",
      "\tat io.netty.channel.AbstractChannelHandlerContext.invokeChannelInactive(AbstractChannelHandlerContext.java:301) ~[netty-transport-4.1.100.Final.jar:4.1.100.Final]\n",
      "\tat io.netty.channel.AbstractChannelHandlerContext.invokeChannelInactive(AbstractChannelHandlerContext.java:281) ~[netty-transport-4.1.100.Final.jar:4.1.100.Final]\n",
      "\tat io.netty.channel.DefaultChannelPipeline.fireChannelInactive(DefaultChannelPipeline.java:901) ~[netty-transport-4.1.100.Final.jar:4.1.100.Final]\n",
      "\tat io.netty.channel.AbstractChannel$AbstractUnsafe$7.run(AbstractChannel.java:813) ~[netty-transport-4.1.100.Final.jar:4.1.100.Final]\n",
      "\tat io.netty.util.concurrent.AbstractEventExecutor.runTask(AbstractEventExecutor.java:173) ~[netty-common-4.1.100.Final.jar:4.1.100.Final]\n",
      "\tat io.netty.util.concurrent.AbstractEventExecutor.safeExecute(AbstractEventExecutor.java:166) ~[netty-common-4.1.100.Final.jar:4.1.100.Final]\n",
      "\tat io.netty.util.concurrent.SingleThreadEventExecutor.runAllTasks(SingleThreadEventExecutor.java:470) ~[netty-common-4.1.100.Final.jar:4.1.100.Final]\n",
      "\tat io.netty.channel.nio.NioEventLoop.run(NioEventLoop.java:566) ~[netty-transport-4.1.100.Final.jar:4.1.100.Final]\n",
      "\tat io.netty.util.concurrent.SingleThreadEventExecutor$4.run(SingleThreadEventExecutor.java:997) ~[netty-common-4.1.100.Final.jar:4.1.100.Final]\n",
      "\tat io.netty.util.internal.ThreadExecutorMap$2.run(ThreadExecutorMap.java:74) ~[netty-common-4.1.100.Final.jar:4.1.100.Final]\n",
      "\tat io.netty.util.concurrent.FastThreadLocalRunnable.run(FastThreadLocalRunnable.java:30) ~[netty-common-4.1.100.Final.jar:4.1.100.Final]\n",
      "\tat java.base/java.lang.Thread.run(Thread.java:829) [?:?]\n",
      "[Stage 201:==========================================>              (3 + 1) / 4]\r"
     ]
    },
    {
     "name": "stdout",
     "output_type": "stream",
     "text": [
      "+--------------------+-----------+-------+-------------------------------+\n",
      "|        airport_name|l_pasazerow|l_lotow|srednia_liczba_pasazerow_na_lot|\n",
      "+--------------------+-----------+-------+-------------------------------+\n",
      "|{\"en\": \"Kazan Int...|     341207|   1181|             288.91363251481795|\n",
      "|{\"en\": \"Irkutsk A...|     398329|   1425|             279.52912280701753|\n",
      "|{\"en\": \"Ugolny Ai...|      21746|    111|              195.9099099099099|\n",
      "|{\"en\": \"Pulkovo A...|     893576|   6175|             144.70866396761133|\n",
      "|{\"en\": \"Kemerovo ...|      53401|    393|             135.88040712468194|\n",
      "|{\"en\": \"Anapa Vit...|     100820|    779|             129.42233632862644|\n",
      "|{\"en\": \"Khrabrovo...|     122756|    952|              128.9453781512605|\n",
      "|{\"en\": \"Bratsk Ai...|      48248|    393|             122.76844783715013|\n",
      "|{\"en\": \"Khabarovs...|     245007|   2118|              115.6784702549575|\n",
      "|{\"en\": \"Chita-Kad...|      53545|    499|             107.30460921843688|\n",
      "|{\"en\": \"Naryan Ma...|      96167|    940|             102.30531914893616|\n",
      "|{\"en\": \"Sochi Int...|     232123|   2342|              99.11315115286081|\n",
      "|{\"en\": \"Yuzhno-Sa...|     114257|   1157|              98.75280898876404|\n",
      "|{\"en\": \"Belgorod ...|     139057|   1531|              90.82756368386676|\n",
      "|{\"en\": \"Talagi Ai...|     106751|   1275|              83.72627450980391|\n",
      "|{\"en\": \"Rostov-on...|     135812|   1648|              82.41019417475728|\n",
      "|{\"en\": \"Domodedov...|    1164744|  14444|               80.6386042647466|\n",
      "|{\"en\": \"Yemelyano...|     132023|   1722|              76.66840882694541|\n",
      "|{\"en\": \"Krasnodar...|      41750|    553|              75.49728752260398|\n",
      "|{\"en\": \"Vnukovo I...|     587874|   8034|              73.17326362957431|\n",
      "+--------------------+-----------+-------+-------------------------------+\n",
      "only showing top 20 rows\n",
      "\n"
     ]
    },
    {
     "name": "stderr",
     "output_type": "stream",
     "text": [
      "24/07/22 13:08:25 ERROR TransportResponseHandler: Still have 1 requests outstanding when connection from /10.186.0.16:50120 is closed\n",
      "24/07/22 13:08:25 WARN BlockManagerMasterEndpoint: Error trying to remove broadcast 99 from block manager BlockManagerId(16, kuba-cluster-w-0.europe-central2-b.c.mentoring-372319.internal, 33423, None)\n",
      "java.io.IOException: Connection from /10.186.0.16:50120 closed\n",
      "\tat org.apache.spark.network.client.TransportResponseHandler.channelInactive(TransportResponseHandler.java:147) ~[spark-network-common_2.12-3.5.0.jar:3.5.0]\n",
      "\tat org.apache.spark.network.server.TransportChannelHandler.channelInactive(TransportChannelHandler.java:117) ~[spark-network-common_2.12-3.5.0.jar:3.5.0]\n",
      "\tat io.netty.channel.AbstractChannelHandlerContext.invokeChannelInactive(AbstractChannelHandlerContext.java:305) ~[netty-transport-4.1.100.Final.jar:4.1.100.Final]\n",
      "\tat io.netty.channel.AbstractChannelHandlerContext.invokeChannelInactive(AbstractChannelHandlerContext.java:281) ~[netty-transport-4.1.100.Final.jar:4.1.100.Final]\n",
      "\tat io.netty.channel.AbstractChannelHandlerContext.fireChannelInactive(AbstractChannelHandlerContext.java:274) ~[netty-transport-4.1.100.Final.jar:4.1.100.Final]\n",
      "\tat io.netty.channel.ChannelInboundHandlerAdapter.channelInactive(ChannelInboundHandlerAdapter.java:81) ~[netty-transport-4.1.100.Final.jar:4.1.100.Final]\n",
      "\tat io.netty.handler.timeout.IdleStateHandler.channelInactive(IdleStateHandler.java:277) ~[netty-handler-4.1.100.Final.jar:4.1.100.Final]\n",
      "\tat io.netty.channel.AbstractChannelHandlerContext.invokeChannelInactive(AbstractChannelHandlerContext.java:303) ~[netty-transport-4.1.100.Final.jar:4.1.100.Final]\n",
      "\tat io.netty.channel.AbstractChannelHandlerContext.invokeChannelInactive(AbstractChannelHandlerContext.java:281) ~[netty-transport-4.1.100.Final.jar:4.1.100.Final]\n",
      "\tat io.netty.channel.AbstractChannelHandlerContext.fireChannelInactive(AbstractChannelHandlerContext.java:274) ~[netty-transport-4.1.100.Final.jar:4.1.100.Final]\n",
      "\tat io.netty.channel.ChannelInboundHandlerAdapter.channelInactive(ChannelInboundHandlerAdapter.java:81) ~[netty-transport-4.1.100.Final.jar:4.1.100.Final]\n",
      "\tat org.apache.spark.network.util.TransportFrameDecoder.channelInactive(TransportFrameDecoder.java:225) ~[spark-network-common_2.12-3.5.0.jar:3.5.0]\n",
      "\tat io.netty.channel.AbstractChannelHandlerContext.invokeChannelInactive(AbstractChannelHandlerContext.java:305) ~[netty-transport-4.1.100.Final.jar:4.1.100.Final]\n",
      "\tat io.netty.channel.AbstractChannelHandlerContext.invokeChannelInactive(AbstractChannelHandlerContext.java:281) ~[netty-transport-4.1.100.Final.jar:4.1.100.Final]\n",
      "\tat io.netty.channel.AbstractChannelHandlerContext.fireChannelInactive(AbstractChannelHandlerContext.java:274) ~[netty-transport-4.1.100.Final.jar:4.1.100.Final]\n",
      "\tat io.netty.channel.DefaultChannelPipeline$HeadContext.channelInactive(DefaultChannelPipeline.java:1405) ~[netty-transport-4.1.100.Final.jar:4.1.100.Final]\n",
      "\tat io.netty.channel.AbstractChannelHandlerContext.invokeChannelInactive(AbstractChannelHandlerContext.java:301) ~[netty-transport-4.1.100.Final.jar:4.1.100.Final]\n",
      "\tat io.netty.channel.AbstractChannelHandlerContext.invokeChannelInactive(AbstractChannelHandlerContext.java:281) ~[netty-transport-4.1.100.Final.jar:4.1.100.Final]\n",
      "\tat io.netty.channel.DefaultChannelPipeline.fireChannelInactive(DefaultChannelPipeline.java:901) ~[netty-transport-4.1.100.Final.jar:4.1.100.Final]\n",
      "\tat io.netty.channel.AbstractChannel$AbstractUnsafe$7.run(AbstractChannel.java:813) ~[netty-transport-4.1.100.Final.jar:4.1.100.Final]\n",
      "\tat io.netty.util.concurrent.AbstractEventExecutor.runTask(AbstractEventExecutor.java:173) ~[netty-common-4.1.100.Final.jar:4.1.100.Final]\n",
      "\tat io.netty.util.concurrent.AbstractEventExecutor.safeExecute(AbstractEventExecutor.java:166) ~[netty-common-4.1.100.Final.jar:4.1.100.Final]\n",
      "\tat io.netty.util.concurrent.SingleThreadEventExecutor.runAllTasks(SingleThreadEventExecutor.java:470) ~[netty-common-4.1.100.Final.jar:4.1.100.Final]\n",
      "\tat io.netty.channel.nio.NioEventLoop.run(NioEventLoop.java:566) ~[netty-transport-4.1.100.Final.jar:4.1.100.Final]\n",
      "\tat io.netty.util.concurrent.SingleThreadEventExecutor$4.run(SingleThreadEventExecutor.java:997) ~[netty-common-4.1.100.Final.jar:4.1.100.Final]\n",
      "\tat io.netty.util.internal.ThreadExecutorMap$2.run(ThreadExecutorMap.java:74) ~[netty-common-4.1.100.Final.jar:4.1.100.Final]\n",
      "\tat io.netty.util.concurrent.FastThreadLocalRunnable.run(FastThreadLocalRunnable.java:30) ~[netty-common-4.1.100.Final.jar:4.1.100.Final]\n",
      "\tat java.base/java.lang.Thread.run(Thread.java:829) [?:?]\n"
     ]
    }
   ],
   "source": [
    "# Pokaż wynik\n",
    "srednia_liczba_pasazerow_na_lot.show()"
   ]
  },
  {
   "cell_type": "markdown",
   "id": "de177c8e-e75b-4b28-8d82-1a0698c7ae28",
   "metadata": {},
   "source": [
    "## Average departuring passenger count per flight on arrival airport (for business class only)"
   ]
  },
  {
   "cell_type": "code",
   "execution_count": 17,
   "id": "f4f76ff6-76fc-4137-b351-800391df6a66",
   "metadata": {
    "tags": []
   },
   "outputs": [
    {
     "name": "stderr",
     "output_type": "stream",
     "text": [
      "[Stage 237:==========================================>              (3 + 1) / 4]\r"
     ]
    },
    {
     "name": "stdout",
     "output_type": "stream",
     "text": [
      "+--------------------+-----------+-------+-------------------------------+\n",
      "|        airport_name|l_pasazerow|l_lotow|srednia_liczba_pasazerow_na_lot|\n",
      "+--------------------+-----------+-------+-------------------------------+\n",
      "|{\"en\": \"Kazan Int...|      97689|   1181|              82.71718882303134|\n",
      "|{\"en\": \"Irkutsk A...|     109581|   1425|              76.89894736842105|\n",
      "|{\"en\": \"Ugolny Ai...|       7720|    111|              69.54954954954955|\n",
      "|{\"en\": \"Bratsk Ai...|      16895|    393|              42.98982188295165|\n",
      "|{\"en\": \"Kemerovo ...|      13548|    393|              34.47328244274809|\n",
      "|{\"en\": \"Sochi Int...|      75816|   2342|              32.37233134073441|\n",
      "|{\"en\": \"Pulkovo A...|     189136|   6175|              30.62931174089069|\n",
      "|{\"en\": \"Yuzhno-Sa...|      35235|   1157|             30.453759723422646|\n",
      "|{\"en\": \"Khabarovs...|      62476|   2118|             29.497639282341833|\n",
      "|{\"en\": \"Anapa Vit...|      22288|    779|             28.611039794608473|\n",
      "|{\"en\": \"Tolmachev...|     102899|   3924|             26.222986748216105|\n",
      "|{\"en\": \"Khrabrovo...|      23554|    952|             24.741596638655462|\n",
      "|{\"en\": \"Bolshoye ...|      55184|   2622|               21.0465293668955|\n",
      "|{\"en\": \"Krasnodar...|      11562|    553|             20.907775768535263|\n",
      "|{\"en\": \"Sokol Air...|       2090|    110|                           19.0|\n",
      "|{\"en\": \"Yemelyano...|      31403|   1722|             18.236353077816492|\n",
      "|{\"en\": \"Domodedov...|     258837|  14444|             17.920036001107725|\n",
      "|{\"en\": \"Sheremety...|     242705|  14103|              17.20945898035879|\n",
      "|{\"en\": \"Rostov-on...|      27601|   1648|             16.748179611650485|\n",
      "|{\"en\": \"Belgorod ...|      24445|   1531|             15.966688438928804|\n",
      "+--------------------+-----------+-------+-------------------------------+\n",
      "only showing top 20 rows\n",
      "\n"
     ]
    },
    {
     "name": "stderr",
     "output_type": "stream",
     "text": [
      "                                                                                \r"
     ]
    }
   ],
   "source": [
    "from pyspark.sql.functions import count, countDistinct, col\n",
    "\n",
    "\n",
    "# Krok 0: Filtruj tylko rezerwacje dla klasy biznes\n",
    "business_class_df = spark_df_combined.filter(col(\"fare_conditions\") == \"Business\")\n",
    "\n",
    "# Krok 1: Oblicz liczbę pasażerów na lotnisko\n",
    "liczba_pasazerow_per_lotnisko = business_class_df.groupBy(\"airport_name\").agg(count(\"ticket_no\").alias(\"l_pasazerow\"))\n",
    "\n",
    "# Krok 2: Oblicz liczbę lotow\n",
    "liczba_lotow = spark_df_combined.groupBy(\"airport_name\").agg(countDistinct(\"flight_id\").alias(\"l_lotow\"))\n",
    "\n",
    "# Krok 3: Połącz oba DataFrame na podstawie nazwy lotniska\n",
    "srednia_liczba_pasazerow_na_lot = liczba_pasazerow_per_lotnisko.join(liczba_lotow, on=\"airport_name\")\n",
    "\n",
    "# Krok 4: Oblicz średnią liczbę pasazerow na lot dla każdego lotniska\n",
    "srednia_liczba_pasazerow_na_lot = srednia_liczba_pasazerow_na_lot.withColumn(\"srednia_liczba_pasazerow_na_lot\", col(\"l_pasazerow\") / col(\"l_lotow\"))\n",
    "\n",
    "srednia_liczba_pasazerow_na_lot = srednia_liczba_pasazerow_na_lot.orderBy(col('srednia_liczba_pasazerow_na_lot').desc())\n",
    "\n",
    "# Pokaż wynik\n",
    "srednia_liczba_pasazerow_na_lot.show()"
   ]
  },
  {
   "cell_type": "markdown",
   "id": "93af358d-75fa-47b5-a589-c2b8342828d9",
   "metadata": {
    "tags": []
   },
   "source": [
    "## Average number of flights per arrival airport per day"
   ]
  },
  {
   "cell_type": "code",
   "execution_count": 19,
   "id": "fd48c55a-ffd3-4a4f-b62e-89da92f730c9",
   "metadata": {
    "tags": []
   },
   "outputs": [
    {
     "name": "stderr",
     "output_type": "stream",
     "text": [
      "[Stage 277:==========================================>              (3 + 1) / 4]\r"
     ]
    },
    {
     "name": "stdout",
     "output_type": "stream",
     "text": [
      "+--------------------+-----+-------+-----------------------------+\n",
      "|        airport_name|l_dni|l_lotow|srednia_liczba_lotow_na_dzien|\n",
      "+--------------------+-----+-------+-----------------------------+\n",
      "|{\"en\": \"Domodedov...|  390|  14444|            37.03589743589744|\n",
      "|{\"en\": \"Sheremety...|  389|  14103|           36.254498714652954|\n",
      "|{\"en\": \"Vnukovo I...|  389|   8034|           20.652956298200515|\n",
      "|{\"en\": \"Pulkovo A...|  389|   6175|           15.874035989717223|\n",
      "|{\"en\": \"Tolmachev...|  388|   3924|            10.11340206185567|\n",
      "|{\"en\": \"Bolshoye ...|  387|   2622|            6.775193798449612|\n",
      "|{\"en\": \"Sochi Int...|  388|   2342|            6.036082474226804|\n",
      "|{\"en\": \"Bryansk A...|  388|   2341|            6.033505154639175|\n",
      "|{\"en\": \"Novy Uren...|  388|   2289|            5.899484536082475|\n",
      "|{\"en\": \"Koltsovo ...|  387|   2281|             5.89405684754522|\n",
      "|{\"en\": \"Khabarovs...|  389|   2118|           5.4447300771208225|\n",
      "|{\"en\": \"Yemelyano...|  388|   1722|            4.438144329896907|\n",
      "|{\"en\": \"Rostov-on...|  386|   1648|            4.269430051813472|\n",
      "|{\"en\": \"Khanty Ma...|  387|   1620|            4.186046511627907|\n",
      "|{\"en\": \"Sovetskiy...|  386|   1566|             4.05699481865285|\n",
      "|{\"en\": \"Cheboksar...|  387|   1563|            4.038759689922481|\n",
      "|{\"en\": \"Ufa Inter...|  387|   1538|           3.9741602067183464|\n",
      "|{\"en\": \"Belgorod ...|  387|   1531|            3.956072351421189|\n",
      "|{\"en\": \"Volgograd...|  386|   1473|            3.816062176165803|\n",
      "|{\"en\": \"Irkutsk A...|  389|   1425|           3.6632390745501286|\n",
      "+--------------------+-----+-------+-----------------------------+\n",
      "only showing top 20 rows\n",
      "\n"
     ]
    },
    {
     "name": "stderr",
     "output_type": "stream",
     "text": [
      "                                                                                \r"
     ]
    }
   ],
   "source": [
    "from pyspark.sql.functions import count, countDistinct, col\n",
    "\n",
    "# Krok 1: Oblicz liczbę lotow\n",
    "liczba_lotow = spark_df_combined.groupBy(\"airport_name\").agg(countDistinct(\"flight_id\").alias(\"l_lotow\"))\n",
    "\n",
    "# Krok 2: Oblicz liczbe dni z rezerwacjami\n",
    "liczba_dni_z_rezerwacjami = spark_df_combined.groupBy(\"airport_name\").agg(countDistinct(\"book_date\").alias(\"l_dni\"))\n",
    "\n",
    "# Krok 3: Połącz oba DataFrame na podstawie nazwy lotniska\n",
    "srednia_liczba_lotow_na_dzien = liczba_dni_z_rezerwacjami.join(liczba_lotow, on=\"airport_name\")\n",
    "\n",
    "# Krok 4: Oblicz średnią liczbę lotow na dzien dla każdego lotniska\n",
    "srednia_liczba_lotow_na_dzien = srednia_liczba_lotow_na_dzien.withColumn(\"srednia_liczba_lotow_na_dzien\", col(\"l_lotow\") / col(\"l_dni\"))\n",
    "\n",
    "srednia_liczba_lotow_na_dzien = srednia_liczba_lotow_na_dzien.orderBy(col('srednia_liczba_lotow_na_dzien').desc())\n",
    "\n",
    "# Pokaż wynik\n",
    "srednia_liczba_lotow_na_dzien.show()"
   ]
  },
  {
   "cell_type": "markdown",
   "id": "305d4468-3b90-440c-a9d5-26506413db6f",
   "metadata": {},
   "source": [
    "## Average flight delay on airport per day"
   ]
  },
  {
   "cell_type": "code",
   "execution_count": 29,
   "id": "81dba6c1-7540-47a7-9cad-bc487d291c56",
   "metadata": {
    "tags": []
   },
   "outputs": [
    {
     "name": "stderr",
     "output_type": "stream",
     "text": [
      "                                                                                \r"
     ]
    },
    {
     "name": "stdout",
     "output_type": "stream",
     "text": [
      "+-----------------+--------------------+-----------------------------------+\n",
      "|number_of_flights|        airport_name|srednie_opoznienie_na_opozniony_lot|\n",
      "+-----------------+--------------------+-----------------------------------+\n",
      "|               52|{\"en\": \"Nyagan Ai...|                   17.1729873586161|\n",
      "|              103|{\"en\": \"Ugolny Ai...|                 17.096651371668457|\n",
      "|              522|{\"en\": \"Nadym Air...|                  16.13683923705722|\n",
      "|              887|{\"en\": \"Khrabrovo...|                 15.933899752369568|\n",
      "|             1093|{\"en\": \"Kazan Int...|                  15.84957159426797|\n",
      "|              315|{\"en\": \"Nalchik A...|                 15.617204863380834|\n",
      "|              262|{\"en\": \"Ust-Ilims...|                 15.419891801914273|\n",
      "|              785|{\"en\": \"Begishevo...|                 15.273426667263049|\n",
      "|              341|{\"en\": \"Kursk Eas...|                 15.167074663402692|\n",
      "|             1078|{\"en\": \"Nizhnevar...|                 15.081087301769973|\n",
      "|              986|{\"en\": \"Syktyvkar...|                 15.037754281117113|\n",
      "|              569|{\"en\": \"Uray Airp...|                 14.876273127222323|\n",
      "|              724|{\"en\": \"Beslan Ai...|                 14.765834114738727|\n",
      "|              833|{\"en\": \"Abakan Ai...|                 14.736391646696337|\n",
      "|              258|{\"en\": \"Nefteyuga...|                 14.730599214145384|\n",
      "|             1456|{\"en\": \"Sovetskiy...|                  14.59521394922795|\n",
      "|              817|{\"en\": \"Petrozavo...|                  14.39420261565489|\n",
      "|              366|{\"en\": \"Kemerovo ...|                 14.180471631483952|\n",
      "|              292|{\"en\": \"Grabtsevo...|                  14.03500823723229|\n",
      "|              105|{\"en\": \"Usinsk Ai...|                 14.023751023751023|\n",
      "+-----------------+--------------------+-----------------------------------+\n",
      "only showing top 20 rows\n",
      "\n"
     ]
    }
   ],
   "source": [
    "from pyspark.sql import SparkSession\n",
    "from pyspark.sql.functions import countDistinct, col, avg\n",
    "\n",
    "# Krok 0: Filtruj tylko loty ze statusem Arrived\n",
    "arrived_df = spark_df_combined.filter(col(\"status\") == \"Arrived\")\n",
    "\n",
    "# Oblicz liczbę unikalnych lotów na lotnisko\n",
    "arrived_df = arrived_df.groupBy(\"airport_name\").agg(countDistinct(\"flight_id\").alias(\"number_of_flights\"))\n",
    "\n",
    "# Krok 1: Filtruj wiersze z wartościami NULL w kolumnach actual_arrival i scheduled_arrival\n",
    "spark_df_combined_filtered = spark_df_combined.dropna(subset=[\"actual_arrival\", \"scheduled_arrival\"])\n",
    "\n",
    "# Oblicz różnicę pomiędzy rzeczywistym a planowanym czasem przylotu\n",
    "srednie_opoznienie_na_lot = spark_df_combined_filtered.withColumn(\"opoznienie\", ( col(\"actual_arrival\") - col(\"scheduled_arrival\") ) / 60)\n",
    "\n",
    "# Oblicz średnie opóźnienie na lotnisko\n",
    "srednie_opoznienie_na_lot = srednie_opoznienie_na_lot.groupBy(\"airport_name\").agg(avg(\"opoznienie\").alias(\"srednie_opoznienie_na_opozniony_lot_(min)\"))\n",
    "\n",
    "# Krok 3: Połącz oba DataFrame na podstawie odpowiednich nazw kolumn\n",
    "result_df = arrived_df.join(srednie_opoznienie_na_lot, arrived_df.airport_name == srednie_opoznienie_na_lot.airport_name, how=\"left\").drop(srednie_opoznienie_na_lot.airport_name)\n",
    "\n",
    "# Krok 4: Posortuj wyniki według średniego opóźnienia na lot w porządku malejącym\n",
    "result_df = result_df.orderBy(col(\"srednie_opoznienie_na_opozniony_lot_(min)\").desc())\n",
    "\n",
    "# Pokaż wynik\n",
    "result_df.show()\n"
   ]
  },
  {
   "cell_type": "code",
   "execution_count": null,
   "id": "df7408c3-9a66-4fef-affe-ee4d902f88e9",
   "metadata": {},
   "outputs": [],
   "source": []
  }
 ],
 "metadata": {
  "kernelspec": {
   "display_name": "PySpark",
   "language": "python",
   "name": "pyspark"
  },
  "language_info": {
   "codemirror_mode": {
    "name": "ipython",
    "version": 3
   },
   "file_extension": ".py",
   "mimetype": "text/x-python",
   "name": "python",
   "nbconvert_exporter": "python",
   "pygments_lexer": "ipython3",
   "version": "3.11.8"
  }
 },
 "nbformat": 4,
 "nbformat_minor": 5
}
